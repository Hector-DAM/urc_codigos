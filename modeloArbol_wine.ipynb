{
  "cells": [
    {
      "cell_type": "markdown",
      "metadata": {
        "id": "view-in-github",
        "colab_type": "text"
      },
      "source": [
        "<a href=\"https://colab.research.google.com/github/Hector-DAM/urc_codigos/blob/main/modeloArbol_wine.ipynb\" target=\"_parent\"><img src=\"https://colab.research.google.com/assets/colab-badge.svg\" alt=\"Open In Colab\"/></a>"
      ]
    },
    {
      "cell_type": "markdown",
      "metadata": {
        "id": "y-7XY7VcOweE"
      },
      "source": [
        "# Árbol de Decisión usando el Wine dataset\n",
        "\n",
        "Matería: Aprendizaje de Maquina\n",
        "\n",
        "Grupo: LCDN-402\n",
        "\n",
        "Nombre del alumno: Adaya Martínez Héctor Donaji"
      ]
    },
    {
      "cell_type": "code",
      "execution_count": null,
      "metadata": {
        "id": "jXsAxPFtOweJ",
        "outputId": "e370c5d8-2bff-49a3-bf1b-48bcb77690d0"
      },
      "outputs": [
        {
          "name": "stdout",
          "output_type": "stream",
          "text": [
            "Target: 0, Predicción 0\n",
            "La precisión del modelo es: 0.9444444444444444\n",
            "La matriz de confusión es: \n",
            "[[17  2  0]\n",
            " [ 0 21  0]\n",
            " [ 1  0 13]]\n",
            "El informe de clasificación del modelo es: \n",
            "              precision    recall  f1-score   support\n",
            "\n",
            "     class_0       0.94      0.89      0.92        19\n",
            "     class_1       0.91      1.00      0.95        21\n",
            "     class_2       1.00      0.93      0.96        14\n",
            "\n",
            "    accuracy                           0.94        54\n",
            "   macro avg       0.95      0.94      0.95        54\n",
            "weighted avg       0.95      0.94      0.94        54\n",
            "\n"
          ]
        }
      ],
      "source": [
        "# Primero importamos las librerias necesarias\n",
        "\n",
        "from sklearn import datasets\n",
        "from sklearn.model_selection import train_test_split\n",
        "from sklearn.tree import DecisionTreeClassifier\n",
        "from sklearn.metrics import accuracy_score\n",
        "from sklearn.metrics import confusion_matrix\n",
        "from sklearn.metrics import classification_report\n",
        "import pandas as pd\n",
        "\n",
        "# Carga el conjunto de datos Wine\n",
        "wine = datasets.load_wine()\n",
        "\n",
        "# Creamos un daframe con los datos\n",
        "wine_df = pd.DataFrame(wine.data, columns=wine.feature_names)\n",
        "wine_df\n",
        "\n",
        "# Añadimos la columna con la clase\n",
        "wine_df[\"class\"] = wine[\"target\"]\n",
        "\n",
        "\n",
        "# Obtenemos nuestros valores de X y Y\n",
        "X = wine_df.drop(labels=\"class\", axis=1)\n",
        "Y = wine_df[\"class\"]\n",
        "\n",
        "# Dividimos los datos en entrenamiento y prueba\n",
        "\n",
        "X_train, X_test, Y_train, Y_test = train_test_split(X, Y, test_size=0.3, random_state=42)\n",
        "\n",
        "# Creamos el modelo\n",
        "arbol_decision = DecisionTreeClassifier()\n",
        "\n",
        "# Entrenamos el modelo\n",
        "arbol_decision.fit(X_train, Y_train)\n",
        "\n",
        "# Predecimos los valores de Y\n",
        "Y_pred = arbol_decision.predict(X_test)\n",
        "\n",
        "# Elegimos una fila del dataframe para hacer la prueba\n",
        "\n",
        "row = wine_df.iloc[1:2]\n",
        "\n",
        "# Separamos las caracteristicas a evaluar y la etiqueta\n",
        "_row = row.drop(labels=\"class\", axis=1)\n",
        "objetivo_real = row[\"class\"]\n",
        "\n",
        "_pred = arbol_decision.predict(_row)\n",
        "\n",
        "print(f\"Target: {list(objetivo_real)[0]}, Predicción {list(_pred)[0]}\")\n",
        "\n",
        "# Calculamos la precisión del modelo\n",
        "precision = accuracy_score(Y_test, Y_pred)\n",
        "print(f\"La precisión del modelo es: {precision}\")\n",
        "\n",
        "# Calculamos la matriz de confusión\n",
        "confusion = confusion_matrix(Y_test, Y_pred)\n",
        "print(f\"La matriz de confusión es: \\n{confusion}\")\n",
        "\n",
        "# El informe de clasificación del modelo es:\n",
        "etiquetas_clases = wine.target_names\n",
        "informe = classification_report(Y_test, Y_pred, target_names=etiquetas_clases)\n",
        "print(f\"El informe de clasificación del modelo es: \\n{informe}\")"
      ]
    },
    {
      "cell_type": "markdown",
      "metadata": {
        "id": "lC325gsCOweM"
      },
      "source": [
        "## Interpretación de resultados\n",
        "\n",
        "1.   La precisión que tiene nuestro modelo es del 94%, por lo cual podemos decir que el modelo es bastante acertado para los datos con los que se uso\n",
        "2.   Al ver la matriz de confusión decimos que, pese a que hubo fallos al momento de clasficar la clases, estos fueron mínimos teníendo como mayor cantidad las clases que se lograrón dar de manera mas certera\n",
        "3.   Con el informe del reporte podemos ver que las clases tuvierón una precisión bastante alta, teniendo una clase (clase 2) con una precisión del 100%\n",
        "\n",
        "Con esto, podemos decir que el modelo es bastante confiable al momento de ser implementado, y que los resultados que tuvimos utilizando este dataset son bastantes acertados (aproximados) a sus valores reales."
      ]
    },
    {
      "cell_type": "code",
      "execution_count": null,
      "metadata": {
        "id": "HBeV3VJdOweN",
        "outputId": "d787b1b5-4cd6-4f69-dc60-b8ac1cf8d3c9"
      },
      "outputs": [
        {
          "data": {
            "text/plain": [
              "'wine_tree.pdf'"
            ]
          },
          "execution_count": 2,
          "metadata": {},
          "output_type": "execute_result"
        }
      ],
      "source": [
        "# Vamos a graficar el árbol de decisión\n",
        "\n",
        "from sklearn.tree import export_graphviz\n",
        "import graphviz\n",
        "\n",
        "# Exporta el árbol de decisión a un archivo .dot\n",
        "dot_data = export_graphviz(\n",
        "    arbol_decision,\n",
        "    out_file=None,\n",
        "    feature_names=X.columns,\n",
        "    class_names=wine.target_names,\n",
        "    filled=True,\n",
        "    rounded=True,\n",
        "    special_characters=True\n",
        ")\n",
        "\n",
        "# Visualiza el árbol de decisión con Graphviz\n",
        "graph = graphviz.Source(dot_data)\n",
        "graph.render(\"wine_tree\", format=\"png\", cleanup=True)\n",
        "graph.view(\"wine_tree\")\n"
      ]
    }
  ],
  "metadata": {
    "kernelspec": {
      "display_name": "Python 3",
      "language": "python",
      "name": "python3"
    },
    "language_info": {
      "codemirror_mode": {
        "name": "ipython",
        "version": 3
      },
      "file_extension": ".py",
      "mimetype": "text/x-python",
      "name": "python",
      "nbconvert_exporter": "python",
      "pygments_lexer": "ipython3",
      "version": "3.12.0"
    },
    "colab": {
      "provenance": [],
      "include_colab_link": true
    }
  },
  "nbformat": 4,
  "nbformat_minor": 0
}